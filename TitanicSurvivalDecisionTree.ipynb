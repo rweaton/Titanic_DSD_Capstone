{
 "cells": [
  {
   "cell_type": "markdown",
   "metadata": {},
   "source": [
    "### Titanic Survival  -- Decision Tree Model\n",
    "\n",
    "Here we will import data on Titanic passengers that either survived or died when the ship sank in 1912.  The Kaggle file train.csv will be used to develop the decision tree model and test.csv will be used to evaluate model performance. "
   ]
  },
  {
   "cell_type": "markdown",
   "metadata": {},
   "source": [
    "### Preliminaries\n",
    "Load in the required library: recursive partitioning and import the training data from its origin .csv file into an R dataframe.  Inspect the contents of the data frame."
   ]
  },
  {
   "cell_type": "code",
   "execution_count": 1,
   "metadata": {},
   "outputs": [
    {
     "data": {
      "text/html": [
       "<ol class=list-inline>\n",
       "\t<li>891</li>\n",
       "\t<li>12</li>\n",
       "</ol>\n"
      ],
      "text/latex": [
       "\\begin{enumerate*}\n",
       "\\item 891\n",
       "\\item 12\n",
       "\\end{enumerate*}\n"
      ],
      "text/markdown": [
       "1. 891\n",
       "2. 12\n",
       "\n",
       "\n"
      ],
      "text/plain": [
       "[1] 891  12"
      ]
     },
     "metadata": {},
     "output_type": "display_data"
    },
    {
     "data": {
      "text/html": [
       "<table>\n",
       "<thead><tr><th scope=col>PassengerId</th><th scope=col>Survived</th><th scope=col>Pclass</th><th scope=col>Name</th><th scope=col>Sex</th><th scope=col>Age</th><th scope=col>SibSp</th><th scope=col>Parch</th><th scope=col>Ticket</th><th scope=col>Fare</th><th scope=col>Cabin</th><th scope=col>Embarked</th></tr></thead>\n",
       "<tbody>\n",
       "\t<tr><td>1                                                  </td><td>0                                                  </td><td>3                                                  </td><td>Braund, Mr. Owen Harris                            </td><td>male                                               </td><td>22                                                 </td><td>1                                                  </td><td>0                                                  </td><td>A/5 21171                                          </td><td> 7.2500                                            </td><td>                                                   </td><td>S                                                  </td></tr>\n",
       "\t<tr><td>2                                                  </td><td>1                                                  </td><td>1                                                  </td><td>Cumings, Mrs. John Bradley (Florence Briggs Thayer)</td><td>female                                             </td><td>38                                                 </td><td>1                                                  </td><td>0                                                  </td><td>PC 17599                                           </td><td>71.2833                                            </td><td>C85                                                </td><td>C                                                  </td></tr>\n",
       "\t<tr><td>3                                                  </td><td>1                                                  </td><td>3                                                  </td><td>Heikkinen, Miss. Laina                             </td><td>female                                             </td><td>26                                                 </td><td>0                                                  </td><td>0                                                  </td><td>STON/O2. 3101282                                   </td><td> 7.9250                                            </td><td>                                                   </td><td>S                                                  </td></tr>\n",
       "\t<tr><td>4                                                  </td><td>1                                                  </td><td>1                                                  </td><td>Futrelle, Mrs. Jacques Heath (Lily May Peel)       </td><td>female                                             </td><td>35                                                 </td><td>1                                                  </td><td>0                                                  </td><td>113803                                             </td><td>53.1000                                            </td><td>C123                                               </td><td>S                                                  </td></tr>\n",
       "\t<tr><td>5                                                  </td><td>0                                                  </td><td>3                                                  </td><td>Allen, Mr. William Henry                           </td><td>male                                               </td><td>35                                                 </td><td>0                                                  </td><td>0                                                  </td><td>373450                                             </td><td> 8.0500                                            </td><td>                                                   </td><td>S                                                  </td></tr>\n",
       "\t<tr><td>6                                                  </td><td>0                                                  </td><td>3                                                  </td><td>Moran, Mr. James                                   </td><td>male                                               </td><td>NA                                                 </td><td>0                                                  </td><td>0                                                  </td><td>330877                                             </td><td> 8.4583                                            </td><td>                                                   </td><td>Q                                                  </td></tr>\n",
       "</tbody>\n",
       "</table>\n"
      ],
      "text/latex": [
       "\\begin{tabular}{r|llllllllllll}\n",
       " PassengerId & Survived & Pclass & Name & Sex & Age & SibSp & Parch & Ticket & Fare & Cabin & Embarked\\\\\n",
       "\\hline\n",
       "\t 1                                                   & 0                                                   & 3                                                   & Braund, Mr. Owen Harris                             & male                                                & 22                                                  & 1                                                   & 0                                                   & A/5 21171                                           &  7.2500                                             &                                                     & S                                                  \\\\\n",
       "\t 2                                                   & 1                                                   & 1                                                   & Cumings, Mrs. John Bradley (Florence Briggs Thayer) & female                                              & 38                                                  & 1                                                   & 0                                                   & PC 17599                                            & 71.2833                                             & C85                                                 & C                                                  \\\\\n",
       "\t 3                                                   & 1                                                   & 3                                                   & Heikkinen, Miss. Laina                              & female                                              & 26                                                  & 0                                                   & 0                                                   & STON/O2. 3101282                                    &  7.9250                                             &                                                     & S                                                  \\\\\n",
       "\t 4                                                   & 1                                                   & 1                                                   & Futrelle, Mrs. Jacques Heath (Lily May Peel)        & female                                              & 35                                                  & 1                                                   & 0                                                   & 113803                                              & 53.1000                                             & C123                                                & S                                                  \\\\\n",
       "\t 5                                                   & 0                                                   & 3                                                   & Allen, Mr. William Henry                            & male                                                & 35                                                  & 0                                                   & 0                                                   & 373450                                              &  8.0500                                             &                                                     & S                                                  \\\\\n",
       "\t 6                                                   & 0                                                   & 3                                                   & Moran, Mr. James                                    & male                                                & NA                                                  & 0                                                   & 0                                                   & 330877                                              &  8.4583                                             &                                                     & Q                                                  \\\\\n",
       "\\end{tabular}\n"
      ],
      "text/markdown": [
       "\n",
       "PassengerId | Survived | Pclass | Name | Sex | Age | SibSp | Parch | Ticket | Fare | Cabin | Embarked | \n",
       "|---|---|---|---|---|---|\n",
       "| 1                                                   | 0                                                   | 3                                                   | Braund, Mr. Owen Harris                             | male                                                | 22                                                  | 1                                                   | 0                                                   | A/5 21171                                           |  7.2500                                             |                                                     | S                                                   | \n",
       "| 2                                                   | 1                                                   | 1                                                   | Cumings, Mrs. John Bradley (Florence Briggs Thayer) | female                                              | 38                                                  | 1                                                   | 0                                                   | PC 17599                                            | 71.2833                                             | C85                                                 | C                                                   | \n",
       "| 3                                                   | 1                                                   | 3                                                   | Heikkinen, Miss. Laina                              | female                                              | 26                                                  | 0                                                   | 0                                                   | STON/O2. 3101282                                    |  7.9250                                             |                                                     | S                                                   | \n",
       "| 4                                                   | 1                                                   | 1                                                   | Futrelle, Mrs. Jacques Heath (Lily May Peel)        | female                                              | 35                                                  | 1                                                   | 0                                                   | 113803                                              | 53.1000                                             | C123                                                | S                                                   | \n",
       "| 5                                                   | 0                                                   | 3                                                   | Allen, Mr. William Henry                            | male                                                | 35                                                  | 0                                                   | 0                                                   | 373450                                              |  8.0500                                             |                                                     | S                                                   | \n",
       "| 6                                                   | 0                                                   | 3                                                   | Moran, Mr. James                                    | male                                                | NA                                                  | 0                                                   | 0                                                   | 330877                                              |  8.4583                                             |                                                     | Q                                                   | \n",
       "\n",
       "\n"
      ],
      "text/plain": [
       "  PassengerId Survived Pclass\n",
       "1 1           0        3     \n",
       "2 2           1        1     \n",
       "3 3           1        3     \n",
       "4 4           1        1     \n",
       "5 5           0        3     \n",
       "6 6           0        3     \n",
       "  Name                                                Sex    Age SibSp Parch\n",
       "1 Braund, Mr. Owen Harris                             male   22  1     0    \n",
       "2 Cumings, Mrs. John Bradley (Florence Briggs Thayer) female 38  1     0    \n",
       "3 Heikkinen, Miss. Laina                              female 26  0     0    \n",
       "4 Futrelle, Mrs. Jacques Heath (Lily May Peel)        female 35  1     0    \n",
       "5 Allen, Mr. William Henry                            male   35  0     0    \n",
       "6 Moran, Mr. James                                    male   NA  0     0    \n",
       "  Ticket           Fare    Cabin Embarked\n",
       "1 A/5 21171         7.2500       S       \n",
       "2 PC 17599         71.2833 C85   C       \n",
       "3 STON/O2. 3101282  7.9250       S       \n",
       "4 113803           53.1000 C123  S       \n",
       "5 373450            8.0500       S       \n",
       "6 330877            8.4583       Q       "
      ]
     },
     "metadata": {},
     "output_type": "display_data"
    }
   ],
   "source": [
    "# Load the recursive partitioning module that will be used to generate decision tree.\n",
    "library(rpart)\n",
    "\n",
    "# Import train.csv into data frame\n",
    "Titanic.train<-read.csv(\"Datasets/Titanic/train.csv\", header=TRUE, sep=\",\")\n",
    "\n",
    "# Report dimension of training dataframe\n",
    "dim(Titanic.train)\n",
    "\n",
    "# Show the top few lines of the training dataframe\n",
    "head(Titanic.train)\n",
    "\n"
   ]
  },
  {
   "cell_type": "code",
   "execution_count": 2,
   "metadata": {},
   "outputs": [],
   "source": [
    "# Cast Survived as factor/category levels from boolean vector\n",
    "Titanic.train$Survived <- as.factor(Titanic.train$Survived)\n",
    "\n",
    "# Cast Pclass as factor\n",
    "Titanic.train$Pclass <- as.factor(Titanic.train$Pclass)"
   ]
  },
  {
   "cell_type": "code",
   "execution_count": 3,
   "metadata": {},
   "outputs": [
    {
     "name": "stdout",
     "output_type": "stream",
     "text": [
      "'data.frame':\t891 obs. of  12 variables:\n",
      " $ PassengerId: int  1 2 3 4 5 6 7 8 9 10 ...\n",
      " $ Survived   : Factor w/ 2 levels \"0\",\"1\": 1 2 2 2 1 1 1 1 2 2 ...\n",
      " $ Pclass     : Factor w/ 3 levels \"1\",\"2\",\"3\": 3 1 3 1 3 3 1 3 3 2 ...\n",
      " $ Name       : Factor w/ 891 levels \"Abbing, Mr. Anthony\",..: 109 191 358 277 16 559 520 629 417 581 ...\n",
      " $ Sex        : Factor w/ 2 levels \"female\",\"male\": 2 1 1 1 2 2 2 2 1 1 ...\n",
      " $ Age        : num  22 38 26 35 35 NA 54 2 27 14 ...\n",
      " $ SibSp      : int  1 1 0 1 0 0 0 3 0 1 ...\n",
      " $ Parch      : int  0 0 0 0 0 0 0 1 2 0 ...\n",
      " $ Ticket     : Factor w/ 681 levels \"110152\",\"110413\",..: 524 597 670 50 473 276 86 396 345 133 ...\n",
      " $ Fare       : num  7.25 71.28 7.92 53.1 8.05 ...\n",
      " $ Cabin      : Factor w/ 148 levels \"\",\"A10\",\"A14\",..: 1 83 1 57 1 1 131 1 1 1 ...\n",
      " $ Embarked   : Factor w/ 4 levels \"\",\"C\",\"Q\",\"S\": 4 2 4 4 4 3 4 4 4 2 ...\n"
     ]
    }
   ],
   "source": [
    "# Show how the training dataframe is structured\n",
    "str(Titanic.train)"
   ]
  },
  {
   "cell_type": "code",
   "execution_count": 4,
   "metadata": {
    "scrolled": true
   },
   "outputs": [
    {
     "name": "stdout",
     "output_type": "stream",
     "text": [
      "'data.frame':\t891 obs. of  2 variables:\n",
      " $ Survived: Factor w/ 2 levels \"Dead\",\"Survived\": 1 2 2 2 1 1 1 1 2 2 ...\n",
      " $ Embarked: Factor w/ 4 levels \"Unknown\",\"Cherbourg\",..: 4 2 4 4 4 3 4 4 4 2 ...\n"
     ]
    }
   ],
   "source": [
    "# Change levels of Survived and Embarked factors to more meaningful values...\n",
    "levels(Titanic.train$Survived)<-c(\"Dead\", \"Survived\")\n",
    "levels(Titanic.train$Embarked)<-c(\"Unknown\",\"Cherbourg\", \"Queenstown\", \"Southampton\")\n",
    "\n",
    "str(Titanic.train[,c('Survived','Embarked')])"
   ]
  },
  {
   "cell_type": "code",
   "execution_count": 7,
   "metadata": {},
   "outputs": [
    {
     "name": "stdout",
     "output_type": "stream",
     "text": [
      "'data.frame':\t891 obs. of  5 variables:\n",
      " $ FamilySize: int  1 1 0 1 0 0 0 4 2 1 ...\n",
      " $ HasFamily : Factor w/ 2 levels \"FALSE\",\"TRUE\": 2 2 1 2 1 1 1 2 2 2 ...\n",
      " $ CabinType : Factor w/ 9 levels \"\",\"A\",\"B\",\"C\",..: 1 4 1 4 1 1 6 1 1 1 ...\n",
      " $ IsChild   : Factor w/ 2 levels \"FALSE\",\"TRUE\": 1 1 1 1 1 NA 1 2 1 1 ...\n",
      " $ IsSenior  : Factor w/ 2 levels \"FALSE\",\"TRUE\": 1 1 1 1 1 NA 2 1 1 1 ...\n"
     ]
    }
   ],
   "source": [
    "# Count the number of family members, including spouse, parents, children each passenger reported\n",
    "Titanic.train$FamilySize <- Titanic.train$SibSp + Titanic.train$Parch\n",
    "\n",
    "# Combine SibSp and Parch categories into simple yes/no for \"HasFamily\"\n",
    "Titanic.train$HasFamily <- as.factor(Titanic.train$FamilySize > 0)\n",
    "\n",
    "# Strip off room number from values in Cabin column to reduce number of levels for the category\n",
    "Titanic.train$CabinType <- as.factor(substr(as.character(Titanic.train$Cabin),1,1))\n",
    "\n",
    "# Make separate category to identify children\n",
    "Titanic.train$IsChild <- as.factor(Titanic.train$Age <= 12)\n",
    "\n",
    "# Make separate category to identify seniors\n",
    "Titanic.train$IsSenior <- as.factor(Titanic.train$Age >= 50)\n",
    "\n",
    "str(Titanic.train[,c(\"FamilySize\", \"HasFamily\", \"CabinType\", \"IsChild\", \"IsSenior\")])"
   ]
  },
  {
   "cell_type": "code",
   "execution_count": 8,
   "metadata": {},
   "outputs": [
    {
     "data": {
      "text/plain": [
       "  PassengerId        Survived   Pclass \n",
       " Min.   :  1.0   Dead    :549   1:216  \n",
       " 1st Qu.:223.5   Survived:342   2:184  \n",
       " Median :446.0                  3:491  \n",
       " Mean   :446.0                         \n",
       " 3rd Qu.:668.5                         \n",
       " Max.   :891.0                         \n",
       "                                       \n",
       "                                    Name         Sex           Age       \n",
       " Abbing, Mr. Anthony                  :  1   female:314   Min.   : 0.42  \n",
       " Abbott, Mr. Rossmore Edward          :  1   male  :577   1st Qu.:20.12  \n",
       " Abbott, Mrs. Stanton (Rosa Hunt)     :  1                Median :28.00  \n",
       " Abelson, Mr. Samuel                  :  1                Mean   :29.70  \n",
       " Abelson, Mrs. Samuel (Hannah Wizosky):  1                3rd Qu.:38.00  \n",
       " Adahl, Mr. Mauritz Nils Martin       :  1                Max.   :80.00  \n",
       " (Other)                              :885                NA's   :177    \n",
       "     SibSp           Parch             Ticket         Fare       \n",
       " Min.   :0.000   Min.   :0.0000   1601    :  7   Min.   :  0.00  \n",
       " 1st Qu.:0.000   1st Qu.:0.0000   347082  :  7   1st Qu.:  7.91  \n",
       " Median :0.000   Median :0.0000   CA. 2343:  7   Median : 14.45  \n",
       " Mean   :0.523   Mean   :0.3816   3101295 :  6   Mean   : 32.20  \n",
       " 3rd Qu.:1.000   3rd Qu.:0.0000   347088  :  6   3rd Qu.: 31.00  \n",
       " Max.   :8.000   Max.   :6.0000   CA 2144 :  6   Max.   :512.33  \n",
       "                                  (Other) :852                   \n",
       "         Cabin            Embarked   HasFamily     CabinType    IsChild   \n",
       "            :687   Unknown    :  2   FALSE:537          :687   FALSE:645  \n",
       " B96 B98    :  4   Cherbourg  :168   TRUE :354   C      : 59   TRUE : 69  \n",
       " C23 C25 C27:  4   Queenstown : 77               B      : 47   NA's :177  \n",
       " G6         :  4   Southampton:644               D      : 33              \n",
       " C22 C26    :  3                                 E      : 32              \n",
       " D          :  3                                 A      : 15              \n",
       " (Other)    :186                                 (Other): 18              \n",
       "  IsSenior     FamilySize     \n",
       " FALSE:640   Min.   : 0.0000  \n",
       " TRUE : 74   1st Qu.: 0.0000  \n",
       " NA's :177   Median : 0.0000  \n",
       "             Mean   : 0.9046  \n",
       "             3rd Qu.: 1.0000  \n",
       "             Max.   :10.0000  \n",
       "                              "
      ]
     },
     "metadata": {},
     "output_type": "display_data"
    }
   ],
   "source": [
    "# Examine summary statistics of the training data.\n",
    "summary(Titanic.train)"
   ]
  },
  {
   "cell_type": "markdown",
   "metadata": {},
   "source": [
    "### Build the model\n",
    "Begin by randomly sampling training and testing subsets from this total training dataset.  We will use this to appraise the accuracy of the approach prior to incorporating the entire set of training data to build the decision tree."
   ]
  },
  {
   "cell_type": "code",
   "execution_count": 9,
   "metadata": {},
   "outputs": [
    {
     "name": "stdout",
     "output_type": "stream",
     "text": [
      "'data.frame':\t623 obs. of  17 variables:\n",
      " $ PassengerId: int  586 813 851 545 170 111 499 11 754 576 ...\n",
      " $ Survived   : Factor w/ 2 levels \"Dead\",\"Survived\": 2 1 1 1 1 1 1 2 1 1 ...\n",
      " $ Pclass     : Factor w/ 3 levels \"1\",\"2\",\"3\": 1 2 3 1 3 1 1 3 3 3 ...\n",
      " $ Name       : Factor w/ 891 levels \"Abbing, Mr. Anthony\",..: 803 768 23 227 491 672 19 732 420 644 ...\n",
      " $ Sex        : Factor w/ 2 levels \"female\",\"male\": 1 2 2 2 2 2 1 1 2 2 ...\n",
      " $ Age        : num  18 35 4 50 28 47 25 4 23 19 ...\n",
      " $ SibSp      : int  0 0 4 1 0 0 1 1 0 0 ...\n",
      " $ Parch      : int  2 0 2 0 0 0 2 1 0 0 ...\n",
      " $ Ticket     : Factor w/ 681 levels \"110152\",\"110413\",..: 2 223 334 615 81 3 38 617 352 421 ...\n",
      " $ Fare       : num  79.7 10.5 31.3 106.4 56.5 ...\n",
      " $ Cabin      : Factor w/ 148 levels \"\",\"A10\",\"A14\",..: 137 1 1 84 1 54 64 147 1 1 ...\n",
      " $ Embarked   : Factor w/ 4 levels \"Unknown\",\"Cherbourg\",..: 4 4 4 2 4 4 4 4 4 4 ...\n",
      " $ HasFamily  : Factor w/ 2 levels \"FALSE\",\"TRUE\": 2 1 2 2 1 1 2 2 1 1 ...\n",
      " $ CabinType  : Factor w/ 9 levels \"\",\"A\",\"B\",\"C\",..: 6 1 1 4 1 4 4 8 1 1 ...\n",
      " $ IsChild    : Factor w/ 2 levels \"FALSE\",\"TRUE\": 1 1 2 1 1 1 1 2 1 1 ...\n",
      " $ IsSenior   : Factor w/ 2 levels \"FALSE\",\"TRUE\": 1 1 1 2 1 1 1 1 1 1 ...\n",
      " $ FamilySize : int  2 0 6 1 0 0 3 2 0 0 ...\n",
      "'data.frame':\t268 obs. of  17 variables:\n",
      " $ PassengerId: int  2 7 20 21 24 29 33 34 37 38 ...\n",
      " $ Survived   : Factor w/ 2 levels \"Dead\",\"Survived\": 2 1 2 1 2 2 2 1 2 1 ...\n",
      " $ Pclass     : Factor w/ 3 levels \"1\",\"2\",\"3\": 1 1 3 2 1 3 3 2 3 3 ...\n",
      " $ Name       : Factor w/ 891 levels \"Abbing, Mr. Anthony\",..: 191 520 517 278 770 610 294 863 510 135 ...\n",
      " $ Sex        : Factor w/ 2 levels \"female\",\"male\": 1 2 1 2 2 1 1 2 2 2 ...\n",
      " $ Age        : num  38 54 NA 35 28 NA NA 66 NA 21 ...\n",
      " $ SibSp      : int  1 0 0 0 0 0 0 0 0 0 ...\n",
      " $ Parch      : int  0 0 0 0 0 0 0 0 0 0 ...\n",
      " $ Ticket     : Factor w/ 681 levels \"110152\",\"110413\",..: 597 86 185 140 43 284 289 550 203 515 ...\n",
      " $ Fare       : num  71.28 51.86 7.22 26 35.5 ...\n",
      " $ Cabin      : Factor w/ 148 levels \"\",\"A10\",\"A14\",..: 83 131 1 1 15 1 1 1 1 1 ...\n",
      " $ Embarked   : Factor w/ 4 levels \"Unknown\",\"Cherbourg\",..: 2 4 2 4 4 3 3 4 2 4 ...\n",
      " $ HasFamily  : Factor w/ 2 levels \"FALSE\",\"TRUE\": 2 1 1 1 1 1 1 1 1 1 ...\n",
      " $ CabinType  : Factor w/ 9 levels \"\",\"A\",\"B\",\"C\",..: 4 6 1 1 2 1 1 1 1 1 ...\n",
      " $ IsChild    : Factor w/ 2 levels \"FALSE\",\"TRUE\": 1 1 NA 1 1 NA NA 1 NA 1 ...\n",
      " $ IsSenior   : Factor w/ 2 levels \"FALSE\",\"TRUE\": 1 2 NA 1 1 NA NA 2 NA 1 ...\n",
      " $ FamilySize : int  1 0 0 0 0 0 0 0 0 0 ...\n"
     ]
    }
   ],
   "source": [
    "train.index <- sample(1:nrow(Titanic.train), 0.7*nrow(Titanic.train))\n",
    "Titanic.subtrain <- Titanic.train[train.index, ]\n",
    "Titanic.subtest <- Titanic.train[-train.index, ]\n",
    "str(Titanic.subtrain)\n",
    "str(Titanic.subtest)"
   ]
  },
  {
   "cell_type": "code",
   "execution_count": 164,
   "metadata": {
    "scrolled": true
   },
   "outputs": [],
   "source": [
    "# Compute decision tree\n",
    "titanic.tree<-rpart(Survived ~ Pclass + Sex + CabinType + FamilySize + \n",
    "                    Embarked + IsChild + IsSenior, \n",
    "                    data = Titanic.subtrain, \n",
    "                    method=\"class\", parms=list(split=\"gini\"),\n",
    "                    control = rpart.control(minsplit = 10, minbucket = 5))"
   ]
  },
  {
   "cell_type": "code",
   "execution_count": 169,
   "metadata": {},
   "outputs": [
    {
     "data": {
      "text/plain": [
       "Survived ~ Pclass + Sex + CabinType + FamilySize + Embarked + \n",
       "    IsChild + IsSenior\n",
       "attr(,\"variables\")\n",
       "list(Survived, Pclass, Sex, CabinType, FamilySize, Embarked, \n",
       "    IsChild, IsSenior)\n",
       "attr(,\"factors\")\n",
       "           Pclass Sex CabinType FamilySize Embarked IsChild IsSenior\n",
       "Survived        0   0         0          0        0       0        0\n",
       "Pclass          1   0         0          0        0       0        0\n",
       "Sex             0   1         0          0        0       0        0\n",
       "CabinType       0   0         1          0        0       0        0\n",
       "FamilySize      0   0         0          1        0       0        0\n",
       "Embarked        0   0         0          0        1       0        0\n",
       "IsChild         0   0         0          0        0       1        0\n",
       "IsSenior        0   0         0          0        0       0        1\n",
       "attr(,\"term.labels\")\n",
       "[1] \"Pclass\"     \"Sex\"        \"CabinType\"  \"FamilySize\" \"Embarked\"  \n",
       "[6] \"IsChild\"    \"IsSenior\"  \n",
       "attr(,\"order\")\n",
       "[1] 1 1 1 1 1 1 1\n",
       "attr(,\"intercept\")\n",
       "[1] 1\n",
       "attr(,\"response\")\n",
       "[1] 1\n",
       "attr(,\"predvars\")\n",
       "list(Survived, Pclass, Sex, CabinType, FamilySize, Embarked, \n",
       "    IsChild, IsSenior)\n",
       "attr(,\"dataClasses\")\n",
       "  Survived     Pclass        Sex  CabinType FamilySize   Embarked    IsChild \n",
       "  \"factor\"   \"factor\"   \"factor\"   \"factor\"  \"numeric\"   \"factor\"   \"factor\" \n",
       "  IsSenior \n",
       "  \"factor\" "
      ]
     },
     "metadata": {},
     "output_type": "display_data"
    }
   ],
   "source": [
    "as.formula(titanic.tree)"
   ]
  },
  {
   "cell_type": "code",
   "execution_count": 170,
   "metadata": {},
   "outputs": [
    {
     "data": {
      "text/plain": [
       "n= 623 \n",
       "\n",
       "node), split, n, loss, yval, (yprob)\n",
       "      * denotes terminal node\n",
       "\n",
       " 1) root 623 245 Dead (0.60674157 0.39325843)  \n",
       "   2) Sex=male 397  74 Dead (0.81360202 0.18639798)  \n",
       "     4) CabinType=,A,T 336  47 Dead (0.86011905 0.13988095)  \n",
       "       8) IsChild=FALSE 313  38 Dead (0.87859425 0.12140575) *\n",
       "       9) IsChild=TRUE 23   9 Dead (0.60869565 0.39130435)  \n",
       "        18) FamilySize>=4 14   1 Dead (0.92857143 0.07142857) *\n",
       "        19) FamilySize< 4 9   1 Survived (0.11111111 0.88888889) *\n",
       "     5) CabinType=B,C,D,E,F 61  27 Dead (0.55737705 0.44262295)  \n",
       "      10) IsSenior=TRUE 14   2 Dead (0.85714286 0.14285714) *\n",
       "      11) IsSenior=FALSE 47  22 Survived (0.46808511 0.53191489)  \n",
       "        22) IsChild=FALSE 42  20 Dead (0.52380952 0.47619048)  \n",
       "          44) CabinType=B,C,D,F 35  14 Dead (0.60000000 0.40000000)  \n",
       "            88) Embarked=Queenstown,Southampton 21   5 Dead (0.76190476 0.23809524) *\n",
       "            89) Embarked=Cherbourg 14   5 Survived (0.35714286 0.64285714) *\n",
       "          45) CabinType=E 7   1 Survived (0.14285714 0.85714286) *\n",
       "        23) IsChild=TRUE 5   0 Survived (0.00000000 1.00000000) *\n",
       "   3) Sex=female 226  55 Survived (0.24336283 0.75663717)  \n",
       "     6) Pclass=3 103  50 Survived (0.48543689 0.51456311)  \n",
       "      12) FamilySize>=3.5 16   0 Dead (1.00000000 0.00000000) *\n",
       "      13) FamilySize< 3.5 87  34 Survived (0.39080460 0.60919540) *\n",
       "     7) Pclass=1,2 123   5 Survived (0.04065041 0.95934959) *"
      ]
     },
     "metadata": {},
     "output_type": "display_data"
    }
   ],
   "source": [
    "titanic.tree"
   ]
  },
  {
   "cell_type": "code",
   "execution_count": 171,
   "metadata": {},
   "outputs": [
    {
     "data": {
      "image/png": "[encoded data removed]",
      "text/plain": [
       "Plot with title “Decision Tree Model of Titanic Data”"
      ]
     },
     "metadata": {},
     "output_type": "display_data"
    }
   ],
   "source": [
    "# Visualize the model\n",
    "# Plot the tree structure\n",
    "plot(titanic.tree, margin = c(0.25))\n",
    "title(main = \"Decision Tree Model of Titanic Data\")\n",
    "text(titanic.tree, use.n = TRUE)"
   ]
  },
  {
   "cell_type": "code",
   "execution_count": 172,
   "metadata": {},
   "outputs": [
    {
     "data": {
      "text/html": [
       "<dl class=dl-horizontal>\n",
       "\t<dt>3</dt>\n",
       "\t\t<dd>Survived</dd>\n",
       "\t<dt>4</dt>\n",
       "\t\t<dd>Survived</dd>\n",
       "\t<dt>6</dt>\n",
       "\t\t<dd>Dead</dd>\n",
       "\t<dt>8</dt>\n",
       "\t\t<dd>Dead</dd>\n",
       "\t<dt>13</dt>\n",
       "\t\t<dd>Dead</dd>\n",
       "\t<dt>14</dt>\n",
       "\t\t<dd>Dead</dd>\n",
       "</dl>\n",
       "\n",
       "<details>\n",
       "\t<summary style=display:list-item;cursor:pointer>\n",
       "\t\t<strong>Levels</strong>:\n",
       "\t</summary>\n",
       "\t<ol class=list-inline>\n",
       "\t\t<li>'Dead'</li>\n",
       "\t\t<li>'Survived'</li>\n",
       "\t</ol>\n",
       "</details>"
      ],
      "text/latex": [
       "\\begin{description*}\n",
       "\\item[3] Survived\n",
       "\\item[4] Survived\n",
       "\\item[6] Dead\n",
       "\\item[8] Dead\n",
       "\\item[13] Dead\n",
       "\\item[14] Dead\n",
       "\\end{description*}\n",
       "\n",
       "\\emph{Levels}: \\begin{enumerate*}\n",
       "\\item 'Dead'\n",
       "\\item 'Survived'\n",
       "\\end{enumerate*}\n"
      ],
      "text/markdown": [
       "3\n",
       ":   Survived4\n",
       ":   Survived6\n",
       ":   Dead8\n",
       ":   Dead13\n",
       ":   Dead14\n",
       ":   Dead\n",
       "\n",
       "\n",
       "**Levels**: 1. 'Dead'\n",
       "2. 'Survived'\n",
       "\n",
       "\n"
      ],
      "text/plain": [
       "       3        4        6        8       13       14 \n",
       "Survived Survived     Dead     Dead     Dead     Dead \n",
       "Levels: Dead Survived"
      ]
     },
     "metadata": {},
     "output_type": "display_data"
    }
   ],
   "source": [
    "# Predict survival of passengers in the the Titanic.subtest dataset using the decision model\n",
    "Titanic.subtest.predictions <- predict(titanic.tree, Titanic.subtest, type=\"class\")\n",
    "head(Titanic.subtest.predictions)"
   ]
  },
  {
   "cell_type": "code",
   "execution_count": 173,
   "metadata": {},
   "outputs": [
    {
     "data": {
      "text/html": [
       "<table>\n",
       "<thead><tr><th></th><th scope=col>Dead</th><th scope=col>Survived</th></tr></thead>\n",
       "<tbody>\n",
       "\t<tr><th scope=row>3</th><td>0.39080460</td><td>0.60919540</td></tr>\n",
       "\t<tr><th scope=row>4</th><td>0.04065041</td><td>0.95934959</td></tr>\n",
       "\t<tr><th scope=row>6</th><td>0.87859425</td><td>0.12140575</td></tr>\n",
       "\t<tr><th scope=row>8</th><td>0.92857143</td><td>0.07142857</td></tr>\n",
       "\t<tr><th scope=row>13</th><td>0.87859425</td><td>0.12140575</td></tr>\n",
       "\t<tr><th scope=row>14</th><td>0.87859425</td><td>0.12140575</td></tr>\n",
       "</tbody>\n",
       "</table>\n"
      ],
      "text/latex": [
       "\\begin{tabular}{r|ll}\n",
       "  & Dead & Survived\\\\\n",
       "\\hline\n",
       "\t3 & 0.39080460 & 0.60919540\\\\\n",
       "\t4 & 0.04065041 & 0.95934959\\\\\n",
       "\t6 & 0.87859425 & 0.12140575\\\\\n",
       "\t8 & 0.92857143 & 0.07142857\\\\\n",
       "\t13 & 0.87859425 & 0.12140575\\\\\n",
       "\t14 & 0.87859425 & 0.12140575\\\\\n",
       "\\end{tabular}\n"
      ],
      "text/markdown": [
       "\n",
       "| <!--/--> | Dead | Survived | \n",
       "|---|---|---|---|---|---|\n",
       "| 3 | 0.39080460 | 0.60919540 | \n",
       "| 4 | 0.04065041 | 0.95934959 | \n",
       "| 6 | 0.87859425 | 0.12140575 | \n",
       "| 8 | 0.92857143 | 0.07142857 | \n",
       "| 13 | 0.87859425 | 0.12140575 | \n",
       "| 14 | 0.87859425 | 0.12140575 | \n",
       "\n",
       "\n"
      ],
      "text/plain": [
       "   Dead       Survived  \n",
       "3  0.39080460 0.60919540\n",
       "4  0.04065041 0.95934959\n",
       "6  0.87859425 0.12140575\n",
       "8  0.92857143 0.07142857\n",
       "13 0.87859425 0.12140575\n",
       "14 0.87859425 0.12140575"
      ]
     },
     "metadata": {},
     "output_type": "display_data"
    }
   ],
   "source": [
    "# Predicted values can also be probabilities,instead of class labels\n",
    "Titanic.subtest.predictions.prob <- predict(titanic.tree, Titanic.subtest, type = \"prob\")\n",
    "head(Titanic.subtest.predictions.prob)"
   ]
  },
  {
   "cell_type": "code",
   "execution_count": 174,
   "metadata": {},
   "outputs": [
    {
     "data": {
      "text/html": [
       "<table>\n",
       "<thead><tr><th></th><th scope=col>Survived</th><th scope=col>Predictions</th></tr></thead>\n",
       "<tbody>\n",
       "\t<tr><th scope=row>3</th><td>Survived</td><td>Survived</td></tr>\n",
       "\t<tr><th scope=row>4</th><td>Survived</td><td>Survived</td></tr>\n",
       "\t<tr><th scope=row>6</th><td>Dead    </td><td>Dead    </td></tr>\n",
       "\t<tr><th scope=row>8</th><td>Dead    </td><td>Dead    </td></tr>\n",
       "\t<tr><th scope=row>13</th><td>Dead    </td><td>Dead    </td></tr>\n",
       "\t<tr><th scope=row>14</th><td>Dead    </td><td>Dead    </td></tr>\n",
       "</tbody>\n",
       "</table>\n"
      ],
      "text/latex": [
       "\\begin{tabular}{r|ll}\n",
       "  & Survived & Predictions\\\\\n",
       "\\hline\n",
       "\t3 & Survived & Survived\\\\\n",
       "\t4 & Survived & Survived\\\\\n",
       "\t6 & Dead     & Dead    \\\\\n",
       "\t8 & Dead     & Dead    \\\\\n",
       "\t13 & Dead     & Dead    \\\\\n",
       "\t14 & Dead     & Dead    \\\\\n",
       "\\end{tabular}\n"
      ],
      "text/markdown": [
       "\n",
       "| <!--/--> | Survived | Predictions | \n",
       "|---|---|---|---|---|---|\n",
       "| 3 | Survived | Survived | \n",
       "| 4 | Survived | Survived | \n",
       "| 6 | Dead     | Dead     | \n",
       "| 8 | Dead     | Dead     | \n",
       "| 13 | Dead     | Dead     | \n",
       "| 14 | Dead     | Dead     | \n",
       "\n",
       "\n"
      ],
      "text/plain": [
       "   Survived Predictions\n",
       "3  Survived Survived   \n",
       "4  Survived Survived   \n",
       "6  Dead     Dead       \n",
       "8  Dead     Dead       \n",
       "13 Dead     Dead       \n",
       "14 Dead     Dead       "
      ]
     },
     "metadata": {},
     "output_type": "display_data"
    }
   ],
   "source": [
    "# Comparison table of actual values and predicted values\n",
    "Titanic.comparison <- Titanic.subtest\n",
    "Titanic.comparison$Predictions <- Titanic.subtest.predictions\n",
    "head(Titanic.comparison[ , c(\"Survived\", \"Predictions\")])"
   ]
  },
  {
   "cell_type": "code",
   "execution_count": 175,
   "metadata": {},
   "outputs": [
    {
     "data": {
      "text/html": [
       "<table>\n",
       "<thead><tr><th></th><th scope=col>PassengerId</th><th scope=col>Survived</th><th scope=col>Pclass</th><th scope=col>Name</th><th scope=col>Sex</th><th scope=col>Age</th><th scope=col>SibSp</th><th scope=col>Parch</th><th scope=col>Ticket</th><th scope=col>Fare</th><th scope=col>Cabin</th><th scope=col>Embarked</th><th scope=col>HasFamily</th><th scope=col>CabinType</th><th scope=col>IsChild</th><th scope=col>IsSenior</th><th scope=col>FamilySize</th><th scope=col>Predictions</th></tr></thead>\n",
       "<tbody>\n",
       "\t<tr><th scope=row>22</th><td>22                                                       </td><td>Survived                                                 </td><td>2                                                        </td><td>Beesley, Mr. Lawrence                                    </td><td>male                                                     </td><td>34                                                       </td><td>0                                                        </td><td>0                                                        </td><td>248698                                                   </td><td>13.0000                                                  </td><td>D56                                                      </td><td>Southampton                                              </td><td>FALSE                                                    </td><td>D                                                        </td><td>FALSE                                                    </td><td>FALSE                                                    </td><td>0                                                        </td><td>Dead                                                     </td></tr>\n",
       "\t<tr><th scope=row>24</th><td>24                                                       </td><td>Survived                                                 </td><td>1                                                        </td><td>Sloper, Mr. William Thompson                             </td><td>male                                                     </td><td>28                                                       </td><td>0                                                        </td><td>0                                                        </td><td>113788                                                   </td><td>35.5000                                                  </td><td>A6                                                       </td><td>Southampton                                              </td><td>FALSE                                                    </td><td>A                                                        </td><td>FALSE                                                    </td><td>FALSE                                                    </td><td>0                                                        </td><td>Dead                                                     </td></tr>\n",
       "\t<tr><th scope=row>26</th><td>26                                                       </td><td>Survived                                                 </td><td>3                                                        </td><td>Asplund, Mrs. Carl Oscar (Selma Augusta Emilia Johansson)</td><td>female                                                   </td><td>38                                                       </td><td>1                                                        </td><td>5                                                        </td><td>347077                                                   </td><td>31.3875                                                  </td><td>                                                         </td><td>Southampton                                              </td><td>TRUE                                                     </td><td>                                                         </td><td>FALSE                                                    </td><td>FALSE                                                    </td><td>6                                                        </td><td>Dead                                                     </td></tr>\n",
       "\t<tr><th scope=row>37</th><td>37                                                       </td><td>Survived                                                 </td><td>3                                                        </td><td>Mamee, Mr. Hanna                                         </td><td>male                                                     </td><td>NA                                                       </td><td>0                                                        </td><td>0                                                        </td><td>2677                                                     </td><td> 7.2292                                                  </td><td>                                                         </td><td>Cherbourg                                                </td><td>FALSE                                                    </td><td>                                                         </td><td>NA                                                       </td><td>NA                                                       </td><td>0                                                        </td><td>Dead                                                     </td></tr>\n",
       "\t<tr><th scope=row>41</th><td>41                                                       </td><td>Dead                                                     </td><td>3                                                        </td><td>Ahlin, Mrs. Johan (Johanna Persdotter Larsson)           </td><td>female                                                   </td><td>40                                                       </td><td>1                                                        </td><td>0                                                        </td><td>7546                                                     </td><td> 9.4750                                                  </td><td>                                                         </td><td>Southampton                                              </td><td>TRUE                                                     </td><td>                                                         </td><td>FALSE                                                    </td><td>FALSE                                                    </td><td>1                                                        </td><td>Survived                                                 </td></tr>\n",
       "\t<tr><th scope=row>56</th><td>56                                                       </td><td>Survived                                                 </td><td>1                                                        </td><td>Woolner, Mr. Hugh                                        </td><td>male                                                     </td><td>NA                                                       </td><td>0                                                        </td><td>0                                                        </td><td>19947                                                    </td><td>35.5000                                                  </td><td>C52                                                      </td><td>Southampton                                              </td><td>FALSE                                                    </td><td>C                                                        </td><td>NA                                                       </td><td>NA                                                       </td><td>0                                                        </td><td>Dead                                                     </td></tr>\n",
       "</tbody>\n",
       "</table>\n"
      ],
      "text/latex": [
       "\\begin{tabular}{r|llllllllllllllllll}\n",
       "  & PassengerId & Survived & Pclass & Name & Sex & Age & SibSp & Parch & Ticket & Fare & Cabin & Embarked & HasFamily & CabinType & IsChild & IsSenior & FamilySize & Predictions\\\\\n",
       "\\hline\n",
       "\t22 & 22                                                        & Survived                                                  & 2                                                         & Beesley, Mr. Lawrence                                     & male                                                      & 34                                                        & 0                                                         & 0                                                         & 248698                                                    & 13.0000                                                   & D56                                                       & Southampton                                               & FALSE                                                     & D                                                         & FALSE                                                     & FALSE                                                     & 0                                                         & Dead                                                     \\\\\n",
       "\t24 & 24                                                        & Survived                                                  & 1                                                         & Sloper, Mr. William Thompson                              & male                                                      & 28                                                        & 0                                                         & 0                                                         & 113788                                                    & 35.5000                                                   & A6                                                        & Southampton                                               & FALSE                                                     & A                                                         & FALSE                                                     & FALSE                                                     & 0                                                         & Dead                                                     \\\\\n",
       "\t26 & 26                                                        & Survived                                                  & 3                                                         & Asplund, Mrs. Carl Oscar (Selma Augusta Emilia Johansson) & female                                                    & 38                                                        & 1                                                         & 5                                                         & 347077                                                    & 31.3875                                                   &                                                           & Southampton                                               & TRUE                                                      &                                                           & FALSE                                                     & FALSE                                                     & 6                                                         & Dead                                                     \\\\\n",
       "\t37 & 37                                                        & Survived                                                  & 3                                                         & Mamee, Mr. Hanna                                          & male                                                      & NA                                                        & 0                                                         & 0                                                         & 2677                                                      &  7.2292                                                   &                                                           & Cherbourg                                                 & FALSE                                                     &                                                           & NA                                                        & NA                                                        & 0                                                         & Dead                                                     \\\\\n",
       "\t41 & 41                                                        & Dead                                                      & 3                                                         & Ahlin, Mrs. Johan (Johanna Persdotter Larsson)            & female                                                    & 40                                                        & 1                                                         & 0                                                         & 7546                                                      &  9.4750                                                   &                                                           & Southampton                                               & TRUE                                                      &                                                           & FALSE                                                     & FALSE                                                     & 1                                                         & Survived                                                 \\\\\n",
       "\t56 & 56                                                        & Survived                                                  & 1                                                         & Woolner, Mr. Hugh                                         & male                                                      & NA                                                        & 0                                                         & 0                                                         & 19947                                                     & 35.5000                                                   & C52                                                       & Southampton                                               & FALSE                                                     & C                                                         & NA                                                        & NA                                                        & 0                                                         & Dead                                                     \\\\\n",
       "\\end{tabular}\n"
      ],
      "text/markdown": [
       "\n",
       "| <!--/--> | PassengerId | Survived | Pclass | Name | Sex | Age | SibSp | Parch | Ticket | Fare | Cabin | Embarked | HasFamily | CabinType | IsChild | IsSenior | FamilySize | Predictions | \n",
       "|---|---|---|---|---|---|\n",
       "| 22 | 22                                                        | Survived                                                  | 2                                                         | Beesley, Mr. Lawrence                                     | male                                                      | 34                                                        | 0                                                         | 0                                                         | 248698                                                    | 13.0000                                                   | D56                                                       | Southampton                                               | FALSE                                                     | D                                                         | FALSE                                                     | FALSE                                                     | 0                                                         | Dead                                                      | \n",
       "| 24 | 24                                                        | Survived                                                  | 1                                                         | Sloper, Mr. William Thompson                              | male                                                      | 28                                                        | 0                                                         | 0                                                         | 113788                                                    | 35.5000                                                   | A6                                                        | Southampton                                               | FALSE                                                     | A                                                         | FALSE                                                     | FALSE                                                     | 0                                                         | Dead                                                      | \n",
       "| 26 | 26                                                        | Survived                                                  | 3                                                         | Asplund, Mrs. Carl Oscar (Selma Augusta Emilia Johansson) | female                                                    | 38                                                        | 1                                                         | 5                                                         | 347077                                                    | 31.3875                                                   |                                                           | Southampton                                               | TRUE                                                      |                                                           | FALSE                                                     | FALSE                                                     | 6                                                         | Dead                                                      | \n",
       "| 37 | 37                                                        | Survived                                                  | 3                                                         | Mamee, Mr. Hanna                                          | male                                                      | NA                                                        | 0                                                         | 0                                                         | 2677                                                      |  7.2292                                                   |                                                           | Cherbourg                                                 | FALSE                                                     |                                                           | NA                                                        | NA                                                        | 0                                                         | Dead                                                      | \n",
       "| 41 | 41                                                        | Dead                                                      | 3                                                         | Ahlin, Mrs. Johan (Johanna Persdotter Larsson)            | female                                                    | 40                                                        | 1                                                         | 0                                                         | 7546                                                      |  9.4750                                                   |                                                           | Southampton                                               | TRUE                                                      |                                                           | FALSE                                                     | FALSE                                                     | 1                                                         | Survived                                                  | \n",
       "| 56 | 56                                                        | Survived                                                  | 1                                                         | Woolner, Mr. Hugh                                         | male                                                      | NA                                                        | 0                                                         | 0                                                         | 19947                                                     | 35.5000                                                   | C52                                                       | Southampton                                               | FALSE                                                     | C                                                         | NA                                                        | NA                                                        | 0                                                         | Dead                                                      | \n",
       "\n",
       "\n"
      ],
      "text/plain": [
       "   PassengerId Survived Pclass\n",
       "22 22          Survived 2     \n",
       "24 24          Survived 1     \n",
       "26 26          Survived 3     \n",
       "37 37          Survived 3     \n",
       "41 41          Dead     3     \n",
       "56 56          Survived 1     \n",
       "   Name                                                      Sex    Age SibSp\n",
       "22 Beesley, Mr. Lawrence                                     male   34  0    \n",
       "24 Sloper, Mr. William Thompson                              male   28  0    \n",
       "26 Asplund, Mrs. Carl Oscar (Selma Augusta Emilia Johansson) female 38  1    \n",
       "37 Mamee, Mr. Hanna                                          male   NA  0    \n",
       "41 Ahlin, Mrs. Johan (Johanna Persdotter Larsson)            female 40  1    \n",
       "56 Woolner, Mr. Hugh                                         male   NA  0    \n",
       "   Parch Ticket Fare    Cabin Embarked    HasFamily CabinType IsChild IsSenior\n",
       "22 0     248698 13.0000 D56   Southampton FALSE     D         FALSE   FALSE   \n",
       "24 0     113788 35.5000 A6    Southampton FALSE     A         FALSE   FALSE   \n",
       "26 5     347077 31.3875       Southampton TRUE                FALSE   FALSE   \n",
       "37 0     2677    7.2292       Cherbourg   FALSE               NA      NA      \n",
       "41 0     7546    9.4750       Southampton TRUE                FALSE   FALSE   \n",
       "56 0     19947  35.5000 C52   Southampton FALSE     C         NA      NA      \n",
       "   FamilySize Predictions\n",
       "22 0          Dead       \n",
       "24 0          Dead       \n",
       "26 6          Dead       \n",
       "37 0          Dead       \n",
       "41 1          Survived   \n",
       "56 0          Dead       "
      ]
     },
     "metadata": {},
     "output_type": "display_data"
    },
    {
     "data": {
      "text/html": [
       "51"
      ],
      "text/latex": [
       "51"
      ],
      "text/markdown": [
       "51"
      ],
      "text/plain": [
       "[1] 51"
      ]
     },
     "metadata": {},
     "output_type": "display_data"
    }
   ],
   "source": [
    "# View misclassified rows\n",
    "disagreement.index <- Titanic.comparison$Survived != Titanic.comparison$Predictions \n",
    "head(Titanic.comparison[disagreement.index, ])\n",
    "sum(disagreement.index)"
   ]
  },
  {
   "cell_type": "code",
   "execution_count": 176,
   "metadata": {},
   "outputs": [
    {
     "name": "stdout",
     "output_type": "stream",
     "text": [
      "          \n",
      "           Dead Survived\n",
      "  Dead      147       27\n",
      "  Survived   24       70\n"
     ]
    }
   ],
   "source": [
    "# Build the confusion matrix\n",
    "titanic.dt.confusion <- table(Titanic.comparison$Predictions, Titanic.subtest[,\"Survived\"])\n",
    "print(titanic.dt.confusion)"
   ]
  },
  {
   "cell_type": "code",
   "execution_count": 177,
   "metadata": {},
   "outputs": [
    {
     "name": "stdout",
     "output_type": "stream",
     "text": [
      "Accuracy:  0.8097015\n",
      "Precision:  0.7446809\n",
      "Recall:  0.7216495\n",
      "F1-score:  0.7329843"
     ]
    }
   ],
   "source": [
    "# Accuracy\n",
    "titanic.dt.accuracy <- sum(diag(titanic.dt.confusion)) / sum(titanic.dt.confusion)\n",
    "cat(\"Accuracy: \", titanic.dt.accuracy)\n",
    "# Precision\n",
    "titanic.dt.precision <- titanic.dt.confusion[2,2] / sum(titanic.dt.confusion[2,])\n",
    "cat(\"\\nPrecision: \", titanic.dt.precision)\n",
    "# Recall\n",
    "titanic.dt.recall <- titanic.dt.confusion[2,2] / sum(titanic.dt.confusion[,2])\n",
    "cat(\"\\nRecall: \", titanic.dt.recall)\n",
    "# F1 score\n",
    "titanic.dt.F1 <- 2 * titanic.dt.precision * titanic.dt.recall / (titanic.dt.precision + titanic.dt.recall)\n",
    "cat(\"\\nF1-score: \", titanic.dt.F1)"
   ]
  },
  {
   "cell_type": "markdown",
   "metadata": {},
   "source": [
    "### Perform Bootstrap of Model"
   ]
  },
  {
   "cell_type": "code",
   "execution_count": 182,
   "metadata": {},
   "outputs": [
    {
     "name": "stdout",
     "output_type": "stream",
     "text": [
      "\n",
      "Accuracy stats:"
     ]
    },
    {
     "data": {
      "text/plain": [
       "   Min. 1st Qu.  Median    Mean 3rd Qu.    Max. \n",
       " 0.7687  0.8022  0.8134  0.8122  0.8209  0.8619 "
      ]
     },
     "metadata": {},
     "output_type": "display_data"
    },
    {
     "name": "stdout",
     "output_type": "stream",
     "text": [
      "\n",
      "Precision stats:"
     ]
    },
    {
     "data": {
      "text/plain": [
       "   Min. 1st Qu.  Median    Mean 3rd Qu.    Max. \n",
       " 0.6809  0.7527  0.7807  0.7955  0.8392  0.9692 "
      ]
     },
     "metadata": {},
     "output_type": "display_data"
    },
    {
     "name": "stdout",
     "output_type": "stream",
     "text": [
      "\n",
      "Recall stats:"
     ]
    },
    {
     "data": {
      "text/plain": [
       "   Min. 1st Qu.  Median    Mean 3rd Qu.    Max. \n",
       " 0.4742  0.6529  0.7067  0.6982  0.7555  0.8163 "
      ]
     },
     "metadata": {},
     "output_type": "display_data"
    },
    {
     "name": "stdout",
     "output_type": "stream",
     "text": [
      "\n",
      "F1-score stats:"
     ]
    },
    {
     "data": {
      "text/plain": [
       "   Min. 1st Qu.  Median    Mean 3rd Qu.    Max. \n",
       " 0.6093  0.7218  0.7407  0.7391  0.7617  0.8098 "
      ]
     },
     "metadata": {},
     "output_type": "display_data"
    }
   ],
   "source": [
    "# Specify number of runs to repeat\n",
    "nReps <- 100\n",
    "\n",
    "# Initialize storage vectors\n",
    "Accuracy.Vec <- vector(\"numeric\", length=nReps)\n",
    "Precision.Vec <- vector(\"numeric\", length=nReps)\n",
    "Recall.Vec <- vector(\"numeric\", length=nReps)\n",
    "F1_score.Vec <- vector(\"numeric\", length=nReps)\n",
    "\n",
    "# Repeat decsion tree generation and performance evaluation nReps times \n",
    "for (i in 1:nReps){\n",
    "    \n",
    "    # Split data into training and testing subsets\n",
    "    train.index <- sample(1:nrow(Titanic.train), 0.7*nrow(Titanic.train))\n",
    "    Titanic.subtrain <- Titanic.train[train.index, ]\n",
    "    Titanic.subtest <- Titanic.train[-train.index, ]\n",
    "    \n",
    "    # Compute decision tree\n",
    "    titanic.tree.2<-rpart(as.formula(titanic.tree), \n",
    "                    data = Titanic.subtrain, \n",
    "                    method=\"class\", parms=list(split=\"gini\"),\n",
    "                    control = rpart.control(minsplit = 10, minbucket=5))\n",
    "    \n",
    "    # Make predictions on current test set\n",
    "    Titanic.subtest.predictions <- predict(titanic.tree.2, Titanic.subtest, type=\"class\")\n",
    "\n",
    "    # Comparison table of actual values and predicted values\n",
    "    Titanic.comparison <- Titanic.subtest\n",
    "    Titanic.comparison$Predictions <- Titanic.subtest.predictions\n",
    "    \n",
    "    # Build the confusion matrix of current run\n",
    "    titanic.dt.confusion <- table(Titanic.comparison$Predictions, Titanic.subtest[,\"Survived\"])\n",
    "\n",
    "    # Store accuracy of current run\n",
    "    Accuracy.Vec[i] <- sum(diag(titanic.dt.confusion)) / sum(titanic.dt.confusion)\n",
    "    \n",
    "    # Store precision of current run\n",
    "    Precision.Vec[i] <- titanic.dt.confusion[2,2] / sum(titanic.dt.confusion[2,])\n",
    "    \n",
    "    # Store recall of current run\n",
    "    Recall.Vec[i] <- titanic.dt.confusion[2,2] / sum(titanic.dt.confusion[,2])\n",
    "\n",
    "    # Store F1 score of current run\n",
    "    F1_score.Vec[i] <- 2 * Precision.Vec[i] * Recall.Vec[i] / (Precision.Vec[i] + Recall.Vec[i])\n",
    "}\n",
    "\n",
    "# Report summary stats\n",
    "cat(\"\\nAccuracy stats:\")\n",
    "summary(Accuracy.Vec)\n",
    "\n",
    "cat(\"\\nPrecision stats:\")\n",
    "summary(Precision.Vec)\n",
    "\n",
    "cat(\"\\nRecall stats:\")\n",
    "summary(Recall.Vec)\n",
    "\n",
    "cat(\"\\nF1-score stats:\")\n",
    "summary(F1_score.Vec)\n",
    "\n"
   ]
  },
  {
   "cell_type": "markdown",
   "metadata": {},
   "source": [
    "### Generate Complete Model and Make Predictions on Test Set"
   ]
  },
  {
   "cell_type": "code",
   "execution_count": 189,
   "metadata": {},
   "outputs": [
    {
     "data": {
      "text/html": [
       "<dl class=dl-horizontal>\n",
       "\t<dt>1</dt>\n",
       "\t\t<dd>Dead</dd>\n",
       "\t<dt>2</dt>\n",
       "\t\t<dd>Survived</dd>\n",
       "\t<dt>3</dt>\n",
       "\t\t<dd>Dead</dd>\n",
       "\t<dt>4</dt>\n",
       "\t\t<dd>Dead</dd>\n",
       "\t<dt>5</dt>\n",
       "\t\t<dd>Survived</dd>\n",
       "\t<dt>6</dt>\n",
       "\t\t<dd>Dead</dd>\n",
       "</dl>\n",
       "\n",
       "<details>\n",
       "\t<summary style=display:list-item;cursor:pointer>\n",
       "\t\t<strong>Levels</strong>:\n",
       "\t</summary>\n",
       "\t<ol class=list-inline>\n",
       "\t\t<li>'Dead'</li>\n",
       "\t\t<li>'Survived'</li>\n",
       "\t</ol>\n",
       "</details>"
      ],
      "text/latex": [
       "\\begin{description*}\n",
       "\\item[1] Dead\n",
       "\\item[2] Survived\n",
       "\\item[3] Dead\n",
       "\\item[4] Dead\n",
       "\\item[5] Survived\n",
       "\\item[6] Dead\n",
       "\\end{description*}\n",
       "\n",
       "\\emph{Levels}: \\begin{enumerate*}\n",
       "\\item 'Dead'\n",
       "\\item 'Survived'\n",
       "\\end{enumerate*}\n"
      ],
      "text/markdown": [
       "1\n",
       ":   Dead2\n",
       ":   Survived3\n",
       ":   Dead4\n",
       ":   Dead5\n",
       ":   Survived6\n",
       ":   Dead\n",
       "\n",
       "\n",
       "**Levels**: 1. 'Dead'\n",
       "2. 'Survived'\n",
       "\n",
       "\n"
      ],
      "text/plain": [
       "       1        2        3        4        5        6 \n",
       "    Dead Survived     Dead     Dead Survived     Dead \n",
       "Levels: Dead Survived"
      ]
     },
     "metadata": {},
     "output_type": "display_data"
    },
    {
     "data": {
      "text/html": [
       "<table>\n",
       "<thead><tr><th></th><th scope=col>Dead</th><th scope=col>Survived</th></tr></thead>\n",
       "<tbody>\n",
       "\t<tr><th scope=row>1</th><td>0.8853211</td><td>0.1146789</td></tr>\n",
       "\t<tr><th scope=row>2</th><td>0.4102564</td><td>0.5897436</td></tr>\n",
       "\t<tr><th scope=row>3</th><td>0.8853211</td><td>0.1146789</td></tr>\n",
       "\t<tr><th scope=row>4</th><td>0.8853211</td><td>0.1146789</td></tr>\n",
       "\t<tr><th scope=row>5</th><td>0.4102564</td><td>0.5897436</td></tr>\n",
       "\t<tr><th scope=row>6</th><td>0.8853211</td><td>0.1146789</td></tr>\n",
       "</tbody>\n",
       "</table>\n"
      ],
      "text/latex": [
       "\\begin{tabular}{r|ll}\n",
       "  & Dead & Survived\\\\\n",
       "\\hline\n",
       "\t1 & 0.8853211 & 0.1146789\\\\\n",
       "\t2 & 0.4102564 & 0.5897436\\\\\n",
       "\t3 & 0.8853211 & 0.1146789\\\\\n",
       "\t4 & 0.8853211 & 0.1146789\\\\\n",
       "\t5 & 0.4102564 & 0.5897436\\\\\n",
       "\t6 & 0.8853211 & 0.1146789\\\\\n",
       "\\end{tabular}\n"
      ],
      "text/markdown": [
       "\n",
       "| <!--/--> | Dead | Survived | \n",
       "|---|---|---|---|---|---|\n",
       "| 1 | 0.8853211 | 0.1146789 | \n",
       "| 2 | 0.4102564 | 0.5897436 | \n",
       "| 3 | 0.8853211 | 0.1146789 | \n",
       "| 4 | 0.8853211 | 0.1146789 | \n",
       "| 5 | 0.4102564 | 0.5897436 | \n",
       "| 6 | 0.8853211 | 0.1146789 | \n",
       "\n",
       "\n"
      ],
      "text/plain": [
       "  Dead      Survived \n",
       "1 0.8853211 0.1146789\n",
       "2 0.4102564 0.5897436\n",
       "3 0.8853211 0.1146789\n",
       "4 0.8853211 0.1146789\n",
       "5 0.4102564 0.5897436\n",
       "6 0.8853211 0.1146789"
      ]
     },
     "metadata": {},
     "output_type": "display_data"
    }
   ],
   "source": [
    "# Generate decision tree model using the full set of training data from train.csv\n",
    "titanic.tree.fullset<-rpart(as.formula(titanic.tree), \n",
    "                    data = Titanic.train, \n",
    "                    method=\"class\", parms=list(split=\"gini\"),\n",
    "                    control = rpart.control(minsplit = 10, minbucket=5))\n",
    "\n",
    "# Import train.csv into data frame, this is our test data for which the actual survived labels are unknown.\n",
    "Titanic.test<-read.csv(\"Datasets/Titanic/test.csv\", header=TRUE, sep=\",\")\n",
    "\n",
    "# Make same modifications to Titanic.test that were made to Titanic.train above (except for \"survived\" column)\n",
    "#Titanic.test$Survived <- as.factor(Titanic.test$Survived)\n",
    "Titanic.test$Pclass <- as.factor(Titanic.test$Pclass)\n",
    "#levels(Titanic.test$Survived)<-c(\"Dead\", \"Survived\")\n",
    "levels(Titanic.test$Embarked)<-c(\"Unknown\",\"Cherbourg\", \"Queenstown\", \"Southampton\")\n",
    "Titanic.test$FamilySize <- Titanic.test$SibSp + Titanic.test$Parch\n",
    "Titanic.test$HasFamily <- as.factor(Titanic.test$FamilySize > 0)\n",
    "Titanic.test$CabinType <- as.factor(substr(as.character(Titanic.test$Cabin),1,1))\n",
    "Titanic.test$IsChild <- as.factor(Titanic.test$Age <= 12)\n",
    "Titanic.test$IsSenior <- as.factor(Titanic.test$Age >= 50)\n",
    "\n",
    "\n",
    "# Produce predictions using complete decision tree\n",
    "Titanic.test.predictions <- predict(titanic.tree.fullset, Titanic.test, type=\"class\")\n",
    "head(Titanic.test.predictions)\n",
    "\n",
    "# Predicted values can also be probabilities,instead of class labels\n",
    "Titanic.test.predictions.prob <- predict(titanic.tree.fullset, Titanic.test, type = \"prob\")\n",
    "head(Titanic.test.predictions.prob)\n"
   ]
  },
  {
   "cell_type": "code",
   "execution_count": 188,
   "metadata": {},
   "outputs": [
    {
     "name": "stdout",
     "output_type": "stream",
     "text": [
      "'data.frame':\t418 obs. of  16 variables:\n",
      " $ PassengerId: int  892 893 894 895 896 897 898 899 900 901 ...\n",
      " $ Pclass     : Factor w/ 3 levels \"1\",\"2\",\"3\": 3 3 2 3 3 3 3 2 3 3 ...\n",
      " $ Name       : Factor w/ 418 levels \"Abbott, Master. Eugene Joseph\",..: 210 409 273 414 182 370 85 58 5 104 ...\n",
      " $ Sex        : Factor w/ 2 levels \"female\",\"male\": 2 1 2 2 1 2 1 2 1 2 ...\n",
      " $ Age        : num  34.5 47 62 27 22 14 30 26 18 21 ...\n",
      " $ SibSp      : int  0 1 0 0 1 0 0 1 0 2 ...\n",
      " $ Parch      : int  0 0 0 0 1 0 0 1 0 0 ...\n",
      " $ Ticket     : Factor w/ 363 levels \"110469\",\"110489\",..: 153 222 74 148 139 262 159 85 101 270 ...\n",
      " $ Fare       : num  7.83 7 9.69 8.66 12.29 ...\n",
      " $ Cabin      : Factor w/ 77 levels \"\",\"A11\",\"A18\",..: 1 1 1 1 1 1 1 1 1 1 ...\n",
      " $ Embarked   : Factor w/ 4 levels \"Unknown\",\"Cherbourg\",..: 2 3 2 3 3 3 2 3 1 3 ...\n",
      " $ FamilySize : int  0 1 0 0 2 0 0 2 0 2 ...\n",
      " $ HasFamily  : Factor w/ 2 levels \"FALSE\",\"TRUE\": 1 2 1 1 2 1 1 2 1 2 ...\n",
      " $ CabinType  : Factor w/ 8 levels \"\",\"A\",\"B\",\"C\",..: 1 1 1 1 1 1 1 1 1 1 ...\n",
      " $ IsChild    : Factor w/ 2 levels \"FALSE\",\"TRUE\": 1 1 1 1 1 1 1 1 1 1 ...\n",
      " $ IsSenior   : Factor w/ 2 levels \"FALSE\",\"TRUE\": 1 1 2 1 1 1 1 1 1 1 ...\n"
     ]
    }
   ],
   "source": [
    "str(Titanic.test)"
   ]
  },
  {
   "cell_type": "code",
   "execution_count": 206,
   "metadata": {},
   "outputs": [],
   "source": [
    "Survived<-as.numeric(Titanic.test.predictions == \"Survived\")\n",
    "PassengerId<-Titanic.test$PassengerId\n",
    "out.df<-data.frame(PassengerId, Survived)"
   ]
  },
  {
   "cell_type": "code",
   "execution_count": 207,
   "metadata": {},
   "outputs": [
    {
     "data": {
      "text/html": [
       "<table>\n",
       "<thead><tr><th scope=col>PassengerId</th><th scope=col>Survived</th></tr></thead>\n",
       "<tbody>\n",
       "\t<tr><td>892</td><td>0  </td></tr>\n",
       "\t<tr><td>893</td><td>1  </td></tr>\n",
       "\t<tr><td>894</td><td>0  </td></tr>\n",
       "\t<tr><td>895</td><td>0  </td></tr>\n",
       "\t<tr><td>896</td><td>1  </td></tr>\n",
       "\t<tr><td>897</td><td>0  </td></tr>\n",
       "</tbody>\n",
       "</table>\n"
      ],
      "text/latex": [
       "\\begin{tabular}{r|ll}\n",
       " PassengerId & Survived\\\\\n",
       "\\hline\n",
       "\t 892 & 0  \\\\\n",
       "\t 893 & 1  \\\\\n",
       "\t 894 & 0  \\\\\n",
       "\t 895 & 0  \\\\\n",
       "\t 896 & 1  \\\\\n",
       "\t 897 & 0  \\\\\n",
       "\\end{tabular}\n"
      ],
      "text/markdown": [
       "\n",
       "PassengerId | Survived | \n",
       "|---|---|---|---|---|---|\n",
       "| 892 | 0   | \n",
       "| 893 | 1   | \n",
       "| 894 | 0   | \n",
       "| 895 | 0   | \n",
       "| 896 | 1   | \n",
       "| 897 | 0   | \n",
       "\n",
       "\n"
      ],
      "text/plain": [
       "  PassengerId Survived\n",
       "1 892         0       \n",
       "2 893         1       \n",
       "3 894         0       \n",
       "4 895         0       \n",
       "5 896         1       \n",
       "6 897         0       "
      ]
     },
     "metadata": {},
     "output_type": "display_data"
    }
   ],
   "source": [
    "head(out.df)"
   ]
  },
  {
   "cell_type": "code",
   "execution_count": 209,
   "metadata": {},
   "outputs": [],
   "source": [
    "write.csv(out.df, \"Datasets/Titanic/survival_predictions_dt.csv\", row.names=FALSE)"
   ]
  },
  {
   "cell_type": "code",
   "execution_count": null,
   "metadata": {},
   "outputs": [],
   "source": []
  }
 ],
 "metadata": {
  "kernelspec": {
   "display_name": "R",
   "language": "R",
   "name": "ir"
  },
  "language_info": {
   "codemirror_mode": "r",
   "file_extension": ".r",
   "mimetype": "text/x-r-source",
   "name": "R",
   "pygments_lexer": "r",
   "version": "3.4.1"
  }
 },
 "nbformat": 4,
 "nbformat_minor": 2
}
